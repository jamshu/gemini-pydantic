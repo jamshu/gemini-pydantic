{
 "cells": [
  {
   "cell_type": "markdown",
   "id": "91cde111",
   "metadata": {},
   "source": [
    "# Gemini Pydantic\n"
   ]
  },
  {
   "cell_type": "code",
   "execution_count": 3,
   "id": "d80a5392",
   "metadata": {},
   "outputs": [
    {
     "name": "stderr",
     "output_type": "stream",
     "text": [
      "c:\\Users\\Admin\\src\\gemini-pydantic\\.venv\\Lib\\site-packages\\tqdm\\auto.py:21: TqdmWarning: IProgress not found. Please update jupyter and ipywidgets. See https://ipywidgets.readthedocs.io/en/stable/user_install.html\n",
      "  from .autonotebook import tqdm as notebook_tqdm\n"
     ]
    }
   ],
   "source": [
    "import os\n",
    "from dotenv import load_dotenv\n",
    "import google.generativeai as genai\n",
    "\n",
    "# Load environment variables from .env file\n",
    "load_dotenv()\n",
    "\n",
    "# Get the API key from environment variables\n",
    "api_key = os.getenv(\"GEMINI_API_KEY\")\n",
    "\n",
    "if not api_key:\n",
    "    raise ValueError(\"GEMINI_API_KEY not found in environment variables\")\n",
    "\n",
    "# Configure the Gemini client\n",
    "genai.configure(api_key=api_key)\n"
   ]
  },
  {
   "cell_type": "code",
   "execution_count": 4,
   "id": "a8215b91",
   "metadata": {},
   "outputs": [
    {
     "name": "stdout",
     "output_type": "stream",
     "text": [
      "✅ Connection successful!\n",
      "Response: Why do programmers prefer dark mode?\n",
      "\n",
      "Because light attracts bugs!\n",
      "Ready to proceed with structured data generation!\n"
     ]
    }
   ],
   "source": [
    "# Initialize the Gemini model\n",
    "model = genai.GenerativeModel('gemini-2.5-flash')\n",
    "\n",
    "# Test connection with a simple \"hello world\" example\n",
    "def test_connection():\n",
    "    \"\"\"Test the Gemini API connection with a simple prompt.\"\"\"\n",
    "    try:\n",
    "        response = model.generate_content(\"Tell me a joke about programming.\")\n",
    "        print(\"✅ Connection successful!\")\n",
    "        print(f\"Response: {response.text}\")\n",
    "        return True\n",
    "    except Exception as e:\n",
    "        print(f\"❌ Connection failed: {e}\")\n",
    "        return False\n",
    "\n",
    "# Test the connection\n",
    "if test_connection():\n",
    "    print(\"Ready to proceed with structured data generation!\")"
   ]
  },
  {
   "cell_type": "code",
   "execution_count": 5,
   "id": "1a51f782",
   "metadata": {},
   "outputs": [
    {
     "name": "stdout",
     "output_type": "stream",
     "text": [
      "Raw response from Gemini:\n",
      "```json\n",
      "{\n",
      "  \"library_name\": \"Central Fictional Library\",\n",
      "  \"books\": [\n",
      "    {\n",
      "      \"title\": \"Pride and Prejudice\",\n",
      "      \"author\": \"Jane Austen\",\n",
      "      \"year\": 1813\n",
      "    },\n",
      "    {\n",
      "      \"title\": \"1984\",\n",
      "      \"author\": \"George Orwell\",\n",
      "      \"year\": 1949\n",
      "    },\n",
      "    {\n",
      "      \"title\": \"To Kill a Mockingbird\",\n",
      "      \"author\": \"Harper Lee\",\n",
      "      \"year\": 1960\n",
      "    },\n",
      "    {\n",
      "      \"title\": \"The Hitchhiker's Guide to the Galaxy\",\n",
      "      \"author\": \"Douglas Adams\",\n",
      "      \"year\": 1979\n",
      "    },\n",
      "    {\n",
      "      \"title\": \"Project Hail Mary\",\n",
      "      \"author\": \"Andy Weir\",\n",
      "      \"year\": 2021\n",
      "    }\n",
      "  ]\n",
      "}\n",
      "```\n",
      "Response type: <class 'str'>\n"
     ]
    }
   ],
   "source": [
    "def generate_library_data():\n",
    "    \"\"\"Generate library data from Gemini API.\"\"\"\n",
    "    \n",
    "    # Multi-line prompt for generating structured JSON\n",
    "    prompt = \"\"\"\n",
    "    Generate a JSON object representing a library with the following structure:\n",
    "    - A library name (string)\n",
    "    - A list of books, where each book has:\n",
    "      - title (string)\n",
    "      - author (string) \n",
    "      - year (positive integer greater than 1000 and less than or equal to the current year)\n",
    "    \n",
    "    Please include exactly 5 books from different time periods.\n",
    "    Return ONLY the JSON object, no additional text or markdown formatting.\n",
    "    \"\"\"\n",
    "    \n",
    "    try:\n",
    "        response = model.generate_content(prompt)\n",
    "        return response.text\n",
    "    except Exception as e:\n",
    "        print(f\"Error generating content: {e}\")\n",
    "        return None\n",
    "\n",
    "# Generate the data\n",
    "raw_response = generate_library_data()\n",
    "print(\"Raw response from Gemini:\")\n",
    "print(raw_response)\n",
    "print(f\"Response type: {type(raw_response)}\")"
   ]
  },
  {
   "cell_type": "code",
   "execution_count": 6,
   "id": "1ad87ca2",
   "metadata": {},
   "outputs": [],
   "source": [
    "from pydantic import BaseModel, Field\n",
    "from typing import List\n",
    "from datetime import datetime"
   ]
  },
  {
   "cell_type": "markdown",
   "id": "6d49b785",
   "metadata": {},
   "source": [
    "### Creating the Book Model"
   ]
  },
  {
   "cell_type": "code",
   "execution_count": 9,
   "id": "cf840441",
   "metadata": {},
   "outputs": [],
   "source": [
    "class Book(BaseModel):\n",
    "    \"\"\"Pydantic model for a book with validation.\"\"\"\n",
    "    \n",
    "    title: str\n",
    "    author: str\n",
    "    year: int = Field(\n",
    "        gt=1,  # Greater than 1\n",
    "        le=datetime.now().year,  # Less than or equal to current year\n",
    "        description=\"Publication year must be between 1000 and current year\"\n",
    "    )\n",
    "    \n",
    "    class Config:\n",
    "        # Enable additional validations\n",
    "        str_strip_whitespace = True  # Automatically strip whitespace from strings\n",
    "        validate_assignment = True   # Validate on assignment after creation"
   ]
  },
  {
   "cell_type": "markdown",
   "id": "26316e99",
   "metadata": {},
   "source": [
    "### Creating the Library Model"
   ]
  },
  {
   "cell_type": "code",
   "execution_count": 11,
   "id": "15563aba",
   "metadata": {},
   "outputs": [],
   "source": [
    "class Library(BaseModel):\n",
    "    \"\"\"Pydantic model for a library containing books.\"\"\"\n",
    "    \n",
    "    library_name: str = Field(min_length=1, description=\"Library name cannot be empty\")\n",
    "    books: List[Book] = Field(description=\"List of books in the library\")\n",
    "    \n",
    "    class Config:\n",
    "        str_strip_whitespace = True\n",
    "        validate_assignment = True\n",
    "    \n",
    "    def get_books_by_author(self, author: str) -> List[Book]:\n",
    "        \"\"\"Get all books by a specific author.\"\"\"\n",
    "        return [book for book in self.books if book.author.lower() == author.lower()]\n",
    "    \n",
    "    def get_books_after_year(self, year: int) -> List[Book]:\n",
    "        \"\"\"Get all books published after a specific year.\"\"\"\n",
    "        return [book for book in self.books if book.year > year]\n",
    "    \n",
    "    def get_average_publication_year(self) -> float:\n",
    "        \"\"\"Calculate average publication year of all books.\"\"\"\n",
    "        if not self.books:\n",
    "            return 0\n",
    "        return sum(book.year for book in self.books) / len(self.books)"
   ]
  },
  {
   "cell_type": "code",
   "execution_count": 12,
   "id": "9f5daacb",
   "metadata": {},
   "outputs": [
    {
     "name": "stdout",
     "output_type": "stream",
     "text": [
      "Cleaned JSON:\n",
      "{\"library_name\": \"Literary Haven Library\", \"books\": [{\"title\": \"Pride and Prejudice\", \"author\": \"Jane Austen\", \"year\": 1813}, {\"title\": \"The Great Gatsby\", \"author\": \"F. Scott Fitzgerald\", \"year\": 1925}, {\"title\": \"1984\", \"author\": \"George Orwell\", \"year\": 1949}, {\"title\": \"Beloved\", \"author\": \"Toni Morrison\", \"year\": 1987}, {\"title\": \"Project Hail Mary\", \"author\": \"Andy Weir\", \"year\": 2021}]}\n"
     ]
    }
   ],
   "source": [
    "def clean_json_response(response_text):\n",
    "    \"\"\"Remove markdown formatting from JSON response.\"\"\"\n",
    "    \n",
    "    # Remove common markdown JSON block formatting\n",
    "    cleaned = response_text.strip()\n",
    "    \n",
    "    # Remove ```json and ``` markers\n",
    "    if cleaned.startswith('```json'):\n",
    "        cleaned = cleaned[7:]  # Remove ```json\n",
    "    elif cleaned.startswith('```'):\n",
    "        cleaned = cleaned[3:]   # Remove ```\n",
    "        \n",
    "    if cleaned.endswith('```'):\n",
    "        cleaned = cleaned[:-3]  # Remove trailing ```\n",
    "    \n",
    "    return cleaned.strip()\n",
    "\n",
    "# Example usage\n",
    "raw_response = generate_library_data()\n",
    "clean_json = clean_json_response(raw_response)\n",
    "print(\"Cleaned JSON:\")\n",
    "print(clean_json)"
   ]
  },
  {
   "cell_type": "markdown",
   "id": "5a72b57e",
   "metadata": {},
   "source": [
    "### Converting JSON to Pydantic Objects"
   ]
  },
  {
   "cell_type": "code",
   "execution_count": 13,
   "id": "9f081a15",
   "metadata": {},
   "outputs": [
    {
     "name": "stdout",
     "output_type": "stream",
     "text": [
      "✅ Successfully parsed and validated library data!\n",
      "Library: City Central Library\n",
      "Number of books: 5\n"
     ]
    }
   ],
   "source": [
    "def parse_library_data(json_string: str) -> Library:\n",
    "    \"\"\"Parse JSON string into a validated Library object.\"\"\"\n",
    "    \n",
    "    try:\n",
    "        # This is the key method - it validates and parses in one step\n",
    "        library = Library.model_validate_json(json_string)\n",
    "        print(\"✅ Successfully parsed and validated library data!\")\n",
    "        return library\n",
    "        \n",
    "    except Exception as e:\n",
    "        print(f\"❌ Validation error: {e}\")\n",
    "        raise\n",
    "\n",
    "# Complete workflow example\n",
    "def create_validated_library():\n",
    "    \"\"\"Complete workflow: Generate -> Clean -> Validate -> Return\"\"\"\n",
    "    \n",
    "    # Step 1: Generate raw data from Gemini\n",
    "    raw_response = generate_library_data()\n",
    "    \n",
    "    # Step 2: Clean the response\n",
    "    clean_json = clean_json_response(raw_response)\n",
    "    \n",
    "    # Step 3: Parse and validate\n",
    "    library = parse_library_data(clean_json)\n",
    "    \n",
    "    return library\n",
    "\n",
    "# Create your validated library\n",
    "library = create_validated_library()\n",
    "print(f\"Library: {library.library_name}\")\n",
    "print(f\"Number of books: {len(library.books)}\")"
   ]
  },
  {
   "cell_type": "markdown",
   "id": "a9c130e8",
   "metadata": {},
   "source": [
    "### demonstrate Validation"
   ]
  },
  {
   "cell_type": "code",
   "execution_count": 14,
   "id": "a610e69f",
   "metadata": {},
   "outputs": [
    {
     "name": "stdout",
     "output_type": "stream",
     "text": [
      "Validation errors:\n",
      "2 validation errors for Library\n",
      "library_name\n",
      "  Field required [type=missing, input_value={'name': '', 'books': [{'...Author', 'year': 3000}]}, input_type=dict]\n",
      "    For further information visit https://errors.pydantic.dev/2.11/v/missing\n",
      "books.0.year\n",
      "  Input should be less than or equal to 2025 [type=less_than_equal, input_value=3000, input_type=int]\n",
      "    For further information visit https://errors.pydantic.dev/2.11/v/less_than_equal\n"
     ]
    }
   ],
   "source": [
    "# Example of validation error handling\n",
    "def demonstrate_validation():\n",
    "    \"\"\"Show how Pydantic handles invalid data.\"\"\"\n",
    "    \n",
    "    invalid_json = '''\n",
    "    {\n",
    "        \"name\": \"\",\n",
    "        \"books\": [\n",
    "            {\n",
    "                \"title\": \"Invalid Book\",\n",
    "                \"author\": \"Test Author\",\n",
    "                \"year\": 3000\n",
    "            }\n",
    "        ]\n",
    "    }\n",
    "    '''\n",
    "    \n",
    "    try:\n",
    "        library = Library.model_validate_json(invalid_json)\n",
    "    except Exception as e:\n",
    "        print(\"Validation errors:\")\n",
    "        print(e)\n",
    "        \n",
    "# This will show detailed error messages about invalid fields\n",
    "demonstrate_validation()"
   ]
  },
  {
   "cell_type": "markdown",
   "id": "b86f73d9",
   "metadata": {},
   "source": [
    "### Exporting to JSON"
   ]
  },
  {
   "cell_type": "code",
   "execution_count": 15,
   "id": "8bea9aa6",
   "metadata": {},
   "outputs": [
    {
     "name": "stdout",
     "output_type": "stream",
     "text": [
      "✅ Library data exported to library_data.json\n",
      "\n",
      "Formatted JSON:\n",
      "{\n",
      "    \"library_name\": \"City Central Library\",\n",
      "    \"books\": [\n",
      "        {\n",
      "            \"title\": \"Pride and Prejudice\",\n",
      "            \"author\": \"Jane Austen\",\n",
      "            \"year\": 1813\n",
      "        },\n",
      "        {\n",
      "            \"title\": \"The Great Gatsby\",\n",
      "            \"author\": \"F. Scott Fitzgerald\",\n",
      "            \"year\": 1925\n",
      "        },\n",
      "        {\n",
      "            \"title\": \"To Kill a Mockingbird\",\n",
      "            \"author\": \"Harper Lee\",\n",
      "            \"year\": 1960\n",
      "        },\n",
      "        {\n",
      "            \"title\": \"A Brief History of Time\",\n",
      "            \"author\": \"Stephen Hawking\",\n",
      "            \"year\": 1988\n",
      "        },\n",
      "        {\n",
      "            \"title\": \"The Midnight Library\",\n",
      "            \"author\": \"Matt Haig\",\n",
      "            \"year\": 2020\n",
      "        }\n",
      "    ]\n",
      "}\n"
     ]
    }
   ],
   "source": [
    "import json\n",
    "\n",
    "def export_library_to_json(library: Library, filename: str = \"library_data.json\"):\n",
    "    \"\"\"Export library data to a JSON file.\"\"\"\n",
    "    \n",
    "    # Convert Pydantic object to JSON string with formatting\n",
    "    json_string = library.model_dump_json(indent=4)\n",
    "    \n",
    "    # Write to file\n",
    "    with open(filename, 'w', encoding='utf-8') as f:\n",
    "        f.write(json_string)\n",
    "    \n",
    "    print(f\"✅ Library data exported to {filename}\")\n",
    "    \n",
    "    # Also print formatted JSON\n",
    "    print(\"\\nFormatted JSON:\")\n",
    "    print(json_string)\n",
    "\n",
    "# Export the library\n",
    "export_library_to_json(library)"
   ]
  },
  {
   "cell_type": "markdown",
   "id": "e39bbc84",
   "metadata": {},
   "source": [
    "### Integrating with Pandas for Analysis"
   ]
  },
  {
   "cell_type": "code",
   "execution_count": 16,
   "id": "87aec44e",
   "metadata": {},
   "outputs": [
    {
     "name": "stdout",
     "output_type": "stream",
     "text": [
      "📊 Library Data Analysis\n",
      "==================================================\n",
      "Total books: 5\n",
      "Unique authors: 5\n",
      "Year range: 1813 - 2020\n",
      "Average publication year: 1941.2\n",
      "\n",
      "📈 Publication Years Distribution:\n",
      "count       5.000000\n",
      "mean     1941.200000\n",
      "std        79.766534\n",
      "min      1813.000000\n",
      "25%      1925.000000\n",
      "50%      1960.000000\n",
      "75%      1988.000000\n",
      "max      2020.000000\n",
      "Name: year, dtype: float64\n",
      "\n",
      "📅 Books by Decade:\n",
      "1810s: 1 book(s)\n",
      "1920s: 1 book(s)\n",
      "1960s: 1 book(s)\n",
      "1980s: 1 book(s)\n",
      "2020s: 1 book(s)\n",
      "\n",
      "📋 DataFrame Preview:\n",
      "                     title               author  year  decade\n",
      "0      Pride and Prejudice          Jane Austen  1813    1810\n",
      "1         The Great Gatsby  F. Scott Fitzgerald  1925    1920\n",
      "2    To Kill a Mockingbird           Harper Lee  1960    1960\n",
      "3  A Brief History of Time      Stephen Hawking  1988    1980\n",
      "4     The Midnight Library            Matt Haig  2020    2020\n"
     ]
    }
   ],
   "source": [
    "import pandas as pd\n",
    "import matplotlib.pyplot as plt\n",
    "\n",
    "def library_to_dataframe(library: Library) -> pd.DataFrame:\n",
    "    \"\"\"Convert library data to a Pandas DataFrame.\"\"\"\n",
    "    \n",
    "    # Extract data into separate lists\n",
    "    titles = [book.title for book in library.books]\n",
    "    authors = [book.author for book in library.books] \n",
    "    years = [book.year for book in library.books]\n",
    "    \n",
    "    # Create DataFrame\n",
    "    df = pd.DataFrame({\n",
    "        'title': titles,\n",
    "        'author': authors,\n",
    "        'year': years\n",
    "    })\n",
    "    \n",
    "    return df\n",
    "\n",
    "def analyze_library_data(library: Library):\n",
    "    \"\"\"Perform basic analysis on library data.\"\"\"\n",
    "    \n",
    "    # Create DataFrame\n",
    "    df = library_to_dataframe(library)\n",
    "    \n",
    "    print(\"📊 Library Data Analysis\")\n",
    "    print(\"=\" * 50)\n",
    "    \n",
    "    # Basic statistics\n",
    "    print(f\"Total books: {len(df)}\")\n",
    "    print(f\"Unique authors: {df['author'].nunique()}\")\n",
    "    print(f\"Year range: {df['year'].min()} - {df['year'].max()}\")\n",
    "    print(f\"Average publication year: {df['year'].mean():.1f}\")\n",
    "    \n",
    "    print(\"\\n📈 Publication Years Distribution:\")\n",
    "    print(df['year'].describe())\n",
    "    \n",
    "    # Group by decade\n",
    "    df['decade'] = (df['year'] // 10) * 10\n",
    "    decade_counts = df['decade'].value_counts().sort_index()\n",
    "    print(f\"\\n📅 Books by Decade:\")\n",
    "    for decade, count in decade_counts.items():\n",
    "        print(f\"{decade}s: {count} book(s)\")\n",
    "    \n",
    "    return df\n",
    "\n",
    "# Perform analysis\n",
    "df = analyze_library_data(library)\n",
    "print(\"\\n📋 DataFrame Preview:\")\n",
    "print(df)"
   ]
  }
 ],
 "metadata": {
  "kernelspec": {
   "display_name": "gemini-pydantic",
   "language": "python",
   "name": "python3"
  },
  "language_info": {
   "codemirror_mode": {
    "name": "ipython",
    "version": 3
   },
   "file_extension": ".py",
   "mimetype": "text/x-python",
   "name": "python",
   "nbconvert_exporter": "python",
   "pygments_lexer": "ipython3",
   "version": "3.13.7"
  }
 },
 "nbformat": 4,
 "nbformat_minor": 5
}
